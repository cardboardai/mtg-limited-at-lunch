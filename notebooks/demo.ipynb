{
 "cells": [
  {
   "cell_type": "code",
   "execution_count": 1,
   "metadata": {},
   "outputs": [],
   "source": [
    "import numpy as np\n",
    "import pandas as pd\n",
    "from scipy.optimize import linear_sum_assignment\n",
    "from scipy.spatial.distance import pdist, squareform\n",
    "import matplotlib.pyplot as plt"
   ]
  },
  {
   "cell_type": "code",
   "execution_count": 2,
   "metadata": {},
   "outputs": [],
   "source": [
    "tourney = {\n",
    "    'player_index': [1,2,3,4,5],\n",
    "    'round_1_wins': [2,2,0,1,2],\n",
    "    'round_1_losses': [0,1,2,2,0]\n",
    "}\n",
    "\n",
    "round_2_opp_ground_truth = [3, 5, 4, 0, 2, 1]"
   ]
  },
  {
   "cell_type": "markdown",
   "metadata": {},
   "source": [
    "Assigning values to wins and losses will determine the difference in performance between players. If losses should be ignored, then `loss_value = 0`. All values should be positive, even losses, as a standard. This way the final tournament score will be calculated `wins * win_value - losses * loss_value` without changing the meaning of a win and loss.\n",
    "\n",
    "In order to ensure that the winner of the most rounds is also the winner of the overall tournament based on points, the difference between the `win_value` and `loss_value` needs to be sufficiently different. Make sure the difference between `win_value` and `loss_value` is chosen such that the following equation is greater than zero:\n",
    "\n",
    "```\n",
    "diff_between_worst_win_and_best_runnerup = win_value * (games_per_round-1)/2 - loss_value * (number_of_rounds * (games_per_round-1)/2 - (games_per_round+1)/2)\n",
    "```\n",
    "\n",
    "If all that matters is winning rounds, then the thing to do is to choose a `loss_value` of 0.\n",
    "\n",
    "If the difference between wins and losses matters, then choose `loss_value` > 0.\n",
    "\n",
    "To guaruntee the winner of the most rounds is the points winner, while still rewarding players for minimizing losses, then find `win_value` with the following equation:\n",
    "\n",
    "```\n",
    "win_value = (2 + loss_value * ((games_per_round - 1)*number_of_rounds - games_per_round - 1)/(games_per_round - 1)\n",
    "```"
   ]
  },
  {
   "cell_type": "code",
   "execution_count": 49,
   "metadata": {},
   "outputs": [],
   "source": [
    "number_of_rounds = 3\n",
    "\n",
    "games_per_round = 5\n",
    "\n",
    "loss_value = 20\n",
    "\n",
    "win_value = (2 + loss_value * ((games_per_round - 1)*number_of_rounds - games_per_round - 1))/(games_per_round - 1)"
   ]
  },
  {
   "cell_type": "code",
   "execution_count": 50,
   "metadata": {},
   "outputs": [
    {
     "name": "stdout",
     "output_type": "stream",
     "text": [
      "30.5\n"
     ]
    }
   ],
   "source": [
    "print(win_value)"
   ]
  },
  {
   "cell_type": "code",
   "execution_count": 53,
   "metadata": {},
   "outputs": [
    {
     "data": {
      "text/plain": [
       "123.0"
      ]
     },
     "execution_count": 53,
     "metadata": {},
     "output_type": "execute_result"
    }
   ],
   "source": [
    "6*win_value-3*loss_value"
   ]
  },
  {
   "cell_type": "code",
   "execution_count": 52,
   "metadata": {},
   "outputs": [
    {
     "data": {
      "text/plain": [
       "112.5"
      ]
     },
     "execution_count": 52,
     "metadata": {},
     "output_type": "execute_result"
    }
   ],
   "source": [
    "5*win_value-2*loss_value"
   ]
  },
  {
   "cell_type": "code",
   "execution_count": 54,
   "metadata": {},
   "outputs": [
    {
     "data": {
      "text/plain": [
       "91.5"
      ]
     },
     "execution_count": 54,
     "metadata": {},
     "output_type": "execute_result"
    }
   ],
   "source": [
    "6*(win_value-1)-3*win_value"
   ]
  },
  {
   "cell_type": "code",
   "execution_count": 55,
   "metadata": {},
   "outputs": [
    {
     "data": {
      "text/plain": [
       "91.5"
      ]
     },
     "execution_count": 55,
     "metadata": {},
     "output_type": "execute_result"
    }
   ],
   "source": [
    "5*(win_value-1)-2*win_value"
   ]
  },
  {
   "cell_type": "code",
   "execution_count": 4,
   "metadata": {},
   "outputs": [],
   "source": [
    "tourney_df = pd.DataFrame(data=tourney)"
   ]
  },
  {
   "cell_type": "markdown",
   "metadata": {},
   "source": [
    "If there are an odd number of players in the tournament, then the linear assignment of opponents will fail. Therefore, add a dummy player, aka the \"bye\", to create an even number of players."
   ]
  },
  {
   "cell_type": "code",
   "execution_count": 5,
   "metadata": {},
   "outputs": [],
   "source": [
    "if len(tourney_df) % 2 == 1:\n",
    "    tourney_df = tourney_df.append(pd.DataFrame([0], columns=['player_index']), sort=True)\n",
    "    tourney_df['round_1_wins'] = tourney_df['round_1_wins'].fillna(0)\n",
    "    tourney_df['round_1_losses'] = tourney_df['round_1_losses'].fillna(tourney_df['round_1_losses'].max())\n",
    "    tourney_df = tourney_df.sort_values(by='player_index', axis=0)\n",
    "    tourney_df = tourney_df.reset_index(drop=True)"
   ]
  },
  {
   "cell_type": "code",
   "execution_count": 6,
   "metadata": {},
   "outputs": [
    {
     "data": {
      "text/html": [
       "<div>\n",
       "<style scoped>\n",
       "    .dataframe tbody tr th:only-of-type {\n",
       "        vertical-align: middle;\n",
       "    }\n",
       "\n",
       "    .dataframe tbody tr th {\n",
       "        vertical-align: top;\n",
       "    }\n",
       "\n",
       "    .dataframe thead th {\n",
       "        text-align: right;\n",
       "    }\n",
       "</style>\n",
       "<table border=\"1\" class=\"dataframe\">\n",
       "  <thead>\n",
       "    <tr style=\"text-align: right;\">\n",
       "      <th></th>\n",
       "      <th>player_index</th>\n",
       "      <th>round_1_losses</th>\n",
       "      <th>round_1_wins</th>\n",
       "    </tr>\n",
       "  </thead>\n",
       "  <tbody>\n",
       "    <tr>\n",
       "      <th>0</th>\n",
       "      <td>0</td>\n",
       "      <td>2.0</td>\n",
       "      <td>0.0</td>\n",
       "    </tr>\n",
       "    <tr>\n",
       "      <th>1</th>\n",
       "      <td>1</td>\n",
       "      <td>0.0</td>\n",
       "      <td>2.0</td>\n",
       "    </tr>\n",
       "    <tr>\n",
       "      <th>2</th>\n",
       "      <td>2</td>\n",
       "      <td>1.0</td>\n",
       "      <td>2.0</td>\n",
       "    </tr>\n",
       "    <tr>\n",
       "      <th>3</th>\n",
       "      <td>3</td>\n",
       "      <td>2.0</td>\n",
       "      <td>0.0</td>\n",
       "    </tr>\n",
       "    <tr>\n",
       "      <th>4</th>\n",
       "      <td>4</td>\n",
       "      <td>2.0</td>\n",
       "      <td>1.0</td>\n",
       "    </tr>\n",
       "    <tr>\n",
       "      <th>5</th>\n",
       "      <td>5</td>\n",
       "      <td>0.0</td>\n",
       "      <td>2.0</td>\n",
       "    </tr>\n",
       "  </tbody>\n",
       "</table>\n",
       "</div>"
      ],
      "text/plain": [
       "   player_index  round_1_losses  round_1_wins\n",
       "0             0             2.0           0.0\n",
       "1             1             0.0           2.0\n",
       "2             2             1.0           2.0\n",
       "3             3             2.0           0.0\n",
       "4             4             2.0           1.0\n",
       "5             5             0.0           2.0"
      ]
     },
     "execution_count": 6,
     "metadata": {},
     "output_type": "execute_result"
    }
   ],
   "source": [
    "tourney_df"
   ]
  },
  {
   "cell_type": "markdown",
   "metadata": {},
   "source": [
    "The diagonal must be set to a high cost to prevent self assignment. Setting the diaganol to the most losses in the tournament will ensure that there is always a player with fewer loses available for pairing."
   ]
  },
  {
   "cell_type": "code",
   "execution_count": 7,
   "metadata": {},
   "outputs": [],
   "source": [
    "win_cost_matrix = pdist(np.matrix(tourney_df['round_1_wins']).T, metric='minkowski', p=1)\n",
    "win_cost_matrix = squareform(win_cost_matrix)"
   ]
  },
  {
   "cell_type": "code",
   "execution_count": 8,
   "metadata": {},
   "outputs": [],
   "source": [
    "loss_cost_matrix = pdist(np.matrix(tourney_df['round_1_losses']).T, metric='minkowski', p=1)\n",
    "loss_cost_matrix = squareform(loss_cost_matrix)"
   ]
  },
  {
   "cell_type": "code",
   "execution_count": 9,
   "metadata": {},
   "outputs": [],
   "source": [
    "final_cost_matrix = win_value * win_cost_matrix + loss_value * loss_cost_matrix\n",
    "max_cost =  np.max(final_cost_matrix)+1\n",
    "np.fill_diagonal(final_cost_matrix, max_cost)"
   ]
  },
  {
   "cell_type": "markdown",
   "metadata": {},
   "source": [
    "If player 1 had a bye in the first round, then they cannot have another bye."
   ]
  },
  {
   "cell_type": "code",
   "execution_count": 10,
   "metadata": {},
   "outputs": [],
   "source": [
    "bye_list = [1]\n",
    "\n",
    "for player in bye_list:\n",
    "    final_cost_matrix[0, player] = max_cost "
   ]
  },
  {
   "cell_type": "code",
   "execution_count": 11,
   "metadata": {},
   "outputs": [
    {
     "data": {
      "text/plain": [
       "array([[9., 9., 7., 0., 3., 8.],\n",
       "       [8., 9., 1., 8., 5., 0.],\n",
       "       [7., 1., 9., 7., 4., 1.],\n",
       "       [0., 8., 7., 9., 3., 8.],\n",
       "       [3., 5., 4., 3., 9., 5.],\n",
       "       [8., 0., 1., 8., 5., 9.]])"
      ]
     },
     "execution_count": 11,
     "metadata": {},
     "output_type": "execute_result"
    }
   ],
   "source": [
    "final_cost_matrix"
   ]
  },
  {
   "cell_type": "code",
   "execution_count": 12,
   "metadata": {},
   "outputs": [
    {
     "data": {
      "text/plain": [
       "<matplotlib.image.AxesImage at 0x27e98315908>"
      ]
     },
     "execution_count": 12,
     "metadata": {},
     "output_type": "execute_result"
    },
    {
     "data": {
      "image/png": "[encoded data removed]",
      "text/plain": [
       "<Figure size 432x288 with 1 Axes>"
      ]
     },
     "metadata": {
      "needs_background": "light"
     },
     "output_type": "display_data"
    }
   ],
   "source": [
    "plt.imshow(final_cost_matrix)"
   ]
  },
  {
   "cell_type": "code",
   "execution_count": 13,
   "metadata": {},
   "outputs": [],
   "source": [
    "_, col_ind = linear_sum_assignment(final_cost_matrix)"
   ]
  },
  {
   "cell_type": "code",
   "execution_count": 14,
   "metadata": {},
   "outputs": [
    {
     "data": {
      "text/plain": [
       "array([3, 5, 4, 0, 2, 1], dtype=int64)"
      ]
     },
     "execution_count": 14,
     "metadata": {},
     "output_type": "execute_result"
    }
   ],
   "source": [
    "col_ind"
   ]
  },
  {
   "cell_type": "code",
   "execution_count": 15,
   "metadata": {},
   "outputs": [
    {
     "data": {
      "text/plain": [
       "True"
      ]
     },
     "execution_count": 15,
     "metadata": {},
     "output_type": "execute_result"
    }
   ],
   "source": [
    "np.array_equal(round_2_opp_ground_truth, col_ind)"
   ]
  }
 ],
 "metadata": {
  "kernelspec": {
   "display_name": "Python 3",
   "language": "python",
   "name": "python3"
  },
  "language_info": {
   "codemirror_mode": {
    "name": "ipython",
    "version": 3
   },
   "file_extension": ".py",
   "mimetype": "text/x-python",
   "name": "python",
   "nbconvert_exporter": "python",
   "pygments_lexer": "ipython3",
   "version": "3.6.6"
  }
 },
 "nbformat": 4,
 "nbformat_minor": 2
}
